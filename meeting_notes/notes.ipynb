{
 "cells": [
  {
   "cell_type": "markdown",
   "id": "1037a201-f518-4bdd-a038-4da499e1418f",
   "metadata": {},
   "source": [
    "# 2022-11-30\n",
    "\n",
    "---\n",
    "\n",
    "Input Parameters $\\vec{p}=(a,b,c,d)$ parameter diff $\\Delta \\vec{p}$ yesterday -> today\n",
    "\n",
    "Fit change of model on change of vols $\\sigma_1(K) - \\sigma_0(K)=\\Delta \\sigma_0(K)$\n",
    "\n",
    "Start with first day $\\vec{p}$ + change $\\Delta \\vec{p}$. $\\hat{\\vec{p}} = \\vec{p} + \\Delta \\vec{p}$.\n",
    "\n",
    "$\\Delta \\vec{p} \\sim f(\\Delta \\sigma_0(K))$\n",
    "\n",
    "\n",
    "#### Features\n",
    "\n",
    "Open interest difference\n",
    "\n",
    "OI sign * volume\n",
    "\n",
    "Notional value at K = price * OI\n",
    "\n",
    "Delta bucketing volume in Delta=(0, 0.1)\n",
    "\n",
    "Kernel smoothing for volume"
   ]
  },
  {
   "cell_type": "markdown",
   "id": "01d901fa-f722-404d-ab1e-39e4a4e0768b",
   "metadata": {
    "execution": {
     "iopub.execute_input": "2022-11-26T22:42:32.556249Z",
     "iopub.status.busy": "2022-11-26T22:42:32.552842Z",
     "iopub.status.idle": "2022-11-26T22:42:32.690970Z",
     "shell.execute_reply": "2022-11-26T22:42:32.683426Z",
     "shell.execute_reply.started": "2022-11-26T22:42:32.556139Z"
    }
   },
   "source": [
    "# 2022-11-28\n",
    "\n",
    "---\n",
    "\n",
    "$$\\begin{aligned}\n",
    "&d := \\text{\"discount\"} = 0.1 \\\\\n",
    "&((V_k + V_{atm}*d) \\Delta \\sigma_k)^2\n",
    "\\end{aligned}$$\n",
    "\n",
    "Loss function improved over MSE. $V$ is from the open."
   ]
  },
  {
   "cell_type": "markdown",
   "id": "718814d1-b722-4012-b821-ff69b8234055",
   "metadata": {
    "tags": []
   },
   "source": [
    "# 2022-05-05\n",
    "\n",
    "---\n",
    "\n",
    "Also do calendar days to calculate rates!\n",
    "\n",
    "Choose boxes by trade volume.\n",
    "\n",
    "Microprice? Mid price? Open interest weighted.\n",
    "\n",
    "Linear regression on all strikes.\n",
    "\n",
    "Tie up undiscounted forward\n",
    "\n",
    "$C-P \\sim strike + c$\n",
    "\n",
    "where $c$ is the forward price. Use all strikes, weight errors by open interest. Weighted Least squares.\n",
    "\n",
    "# To Do\n",
    "\n",
    "Plot IV surface by strike across time\n",
    "\n",
    "Plot IV by log moneyness and delta use black model, apply chain rule to N(d1) for change wrt underlying. $\\frac{dF}{dS} \\in [0,disc factor]$\n",
    "\n",
    "Select IV from OTM options.\n",
    "\n",
    "# Big picture\n",
    "\n",
    "How to adapt the vol curve model when there are trades\n",
    "\n",
    "What is the \"utility funciton\"? What are we optimizing?\n",
    "\n",
    "Suppose we are long many straddles LONG vega.\n",
    "\n",
    "Shift vol curve downward using other strikes."
   ]
  },
  {
   "cell_type": "markdown",
   "id": "c7a79967-b183-4183-a5ae-9ee3c61aef7c",
   "metadata": {},
   "source": [
    "# 2022-05-10\n",
    "\n",
    "---\n",
    "\n",
    "Simple fitting logic\n",
    "\n",
    "Straddle; ignore delta - pure vega\n",
    "\n",
    "collect edge and risk to start -> job is to get rid of risk\n",
    "\n",
    "account for combination of risks\n",
    "\n",
    "Front month vol is typically more susceptible to change\n",
    "\n",
    "IV tends toward 0.18 as time goes out\n",
    "\n",
    "# To Do\n",
    "\n",
    "Crosscheck against march 2020\n",
    "\n",
    "Crosscheck against actual forward prices(ES Mini quarterly starting july 17th)\n",
    "\n",
    "Derive Black76 Delta, greeks\n",
    "\n",
    "Plotly 3D\n"
   ]
  },
  {
   "cell_type": "markdown",
   "id": "624a511e-89c8-4804-b368-68955bce38e7",
   "metadata": {},
   "source": []
  }
 ],
 "metadata": {
  "kernelspec": {
   "display_name": "Python 3 (ipykernel)",
   "language": "python",
   "name": "python3"
  },
  "language_info": {
   "codemirror_mode": {
    "name": "ipython",
    "version": 3
   },
   "file_extension": ".py",
   "mimetype": "text/x-python",
   "name": "python",
   "nbconvert_exporter": "python",
   "pygments_lexer": "ipython3",
   "version": "3.9.12"
  }
 },
 "nbformat": 4,
 "nbformat_minor": 5
}
